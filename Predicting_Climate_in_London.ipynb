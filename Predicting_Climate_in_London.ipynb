{
  "cells": [
    {
      "cell_type": "code",
      "source": [
        "!python --version"
      ],
      "metadata": {
        "colab": {
          "base_uri": "https://localhost:8080/"
        },
        "id": "mlnNW5LnuviR",
        "outputId": "9785402a-8b2c-40ab-8a87-af33518ff0ef"
      },
      "id": "mlnNW5LnuviR",
      "execution_count": 1,
      "outputs": [
        {
          "output_type": "stream",
          "name": "stdout",
          "text": [
            "Python 3.10.12\n"
          ]
        }
      ]
    },
    {
      "source": [
        "![pic.jpg](data:image/jpeg;base64,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)\n",
        "\n",
        "As the climate changes, predicting the weather becomes ever more important for businesses. The aim of of this machine learning project is building a pipeline to predict the climate in London, England. Specifically, the model will predict mean temperature in degrees Celsius (°C).\n",
        "\n",
        "Since the weather depends on a lot of different factors, different experiments will be run to determine what the best approach is to predict the weather. In this project, experiments will be run for different regression models predicting the mean temperature, using a combination of `sklearn` and `mlflow`.\n",
        "\n",
        "You will be working with data stored in `london_weather.csv`, which contains the following columns:\n",
        "- **date** - recorded date of measurement - (**int**)\n",
        "- **cloud_cover** - cloud cover measurement in oktas - (**float**)\n",
        "- **sunshine** - sunshine measurement in hours (hrs) - (**float**)\n",
        "- **global_radiation** - irradiance measurement in Watt per square meter (W/m2) - (**float**)\n",
        "- **max_temp** - maximum temperature recorded in degrees Celsius (°C) - (**float**)\n",
        "- **mean_temp** - **target** mean temperature in degrees Celsius (°C) - (**float**)\n",
        "- **min_temp** - minimum temperature recorded in degrees Celsius (°C) - (**float**)\n",
        "- **precipitation** - precipitation measurement in millimeters (mm) - (**float**)\n",
        "- **pressure** - pressure measurement in Pascals (Pa) - (**float**)\n",
        "- **snow_depth** - snow depth measurement in centimeters (cm) - (**float**)"
      ],
      "metadata": {
        "id": "21503acd-6cbf-40a4-ad05-853a5da28fb7"
      },
      "id": "21503acd-6cbf-40a4-ad05-853a5da28fb7",
      "cell_type": "markdown"
    },
    {
      "cell_type": "code",
      "source": [
        "from google.colab import drive\n",
        "drive.mount('/content/drive')"
      ],
      "metadata": {
        "colab": {
          "base_uri": "https://localhost:8080/"
        },
        "id": "sFp8z2-xeQev",
        "outputId": "74902220-13d9-48d9-cb38-850cef84fa46"
      },
      "id": "sFp8z2-xeQev",
      "execution_count": 2,
      "outputs": [
        {
          "output_type": "stream",
          "name": "stdout",
          "text": [
            "Mounted at /content/drive\n"
          ]
        }
      ]
    },
    {
      "source": [
        "# Run this cell to install mlflow\n",
        "!pip install -q mlflow"
      ],
      "metadata": {
        "executionCancelledAt": null,
        "executionTime": 5565,
        "lastExecutedAt": 1707180182807,
        "lastScheduledRunId": null,
        "lastSuccessfullyExecutedCode": "# Run this cell to install mlflow\n!pip install mlflow",
        "outputsMetadata": {
          "0": {
            "height": 419,
            "type": "stream"
          }
        },
        "id": "3fac012d-6719-43dc-bf15-e152678e86d9",
        "colab": {
          "base_uri": "https://localhost:8080/"
        },
        "outputId": "b198bc48-6fef-47ab-8f3a-bf8cc5d9f7dc"
      },
      "id": "3fac012d-6719-43dc-bf15-e152678e86d9",
      "cell_type": "code",
      "execution_count": 3,
      "outputs": [
        {
          "output_type": "stream",
          "name": "stdout",
          "text": [
            "\u001b[2K     \u001b[90m━━━━━━━━━━━━━━━━━━━━━━━━━━━━━━━━━━━━━━━━\u001b[0m \u001b[32m19.5/19.5 MB\u001b[0m \u001b[31m16.6 MB/s\u001b[0m eta \u001b[36m0:00:00\u001b[0m\n",
            "\u001b[2K     \u001b[90m━━━━━━━━━━━━━━━━━━━━━━━━━━━━━━━━━━━━━━━━\u001b[0m \u001b[32m196.4/196.4 kB\u001b[0m \u001b[31m7.8 MB/s\u001b[0m eta \u001b[36m0:00:00\u001b[0m\n",
            "\u001b[2K     \u001b[90m━━━━━━━━━━━━━━━━━━━━━━━━━━━━━━━━━━━━━━━━\u001b[0m \u001b[32m233.4/233.4 kB\u001b[0m \u001b[31m16.2 MB/s\u001b[0m eta \u001b[36m0:00:00\u001b[0m\n",
            "\u001b[2K     \u001b[90m━━━━━━━━━━━━━━━━━━━━━━━━━━━━━━━━━━━━━━━━\u001b[0m \u001b[32m147.6/147.6 kB\u001b[0m \u001b[31m12.3 MB/s\u001b[0m eta \u001b[36m0:00:00\u001b[0m\n",
            "\u001b[2K     \u001b[90m━━━━━━━━━━━━━━━━━━━━━━━━━━━━━━━━━━━━━━━━\u001b[0m \u001b[32m80.2/80.2 kB\u001b[0m \u001b[31m6.5 MB/s\u001b[0m eta \u001b[36m0:00:00\u001b[0m\n",
            "\u001b[2K     \u001b[90m━━━━━━━━━━━━━━━━━━━━━━━━━━━━━━━━━━━━━━━━\u001b[0m \u001b[32m78.7/78.7 kB\u001b[0m \u001b[31m4.1 MB/s\u001b[0m eta \u001b[36m0:00:00\u001b[0m\n",
            "\u001b[2K     \u001b[90m━━━━━━━━━━━━━━━━━━━━━━━━━━━━━━━━━━━━━━━━\u001b[0m \u001b[32m62.7/62.7 kB\u001b[0m \u001b[31m3.3 MB/s\u001b[0m eta \u001b[36m0:00:00\u001b[0m\n",
            "\u001b[?25h"
          ]
        }
      ]
    },
    {
      "source": [
        "# Run this cell to import the modules you require\n",
        "import pandas as pd\n",
        "import numpy as np\n",
        "import mlflow\n",
        "import mlflow.sklearn\n",
        "import matplotlib.pyplot as plt\n",
        "import seaborn as sns\n",
        "from sklearn.model_selection import train_test_split\n",
        "from sklearn.pipeline import make_pipeline\n",
        "from sklearn.metrics import mean_squared_error\n",
        "from sklearn.impute import SimpleImputer\n",
        "from sklearn.preprocessing import StandardScaler\n",
        "from sklearn.linear_model import LinearRegression\n",
        "from sklearn.tree import DecisionTreeRegressor\n",
        "from sklearn.ensemble import RandomForestRegressor"
      ],
      "metadata": {
        "executionCancelledAt": null,
        "executionTime": 52,
        "lastExecutedAt": 1707180182859,
        "lastScheduledRunId": null,
        "lastSuccessfullyExecutedCode": "# Run this cell to import the modules you require\nimport pandas as pd\nimport numpy as np\nimport mlflow\nimport mlflow.sklearn\nimport matplotlib.pyplot as plt\nimport seaborn as sns\nfrom sklearn.model_selection import train_test_split\nfrom sklearn.pipeline import make_pipeline\nfrom sklearn.metrics import mean_squared_error\nfrom sklearn.impute import SimpleImputer\nfrom sklearn.preprocessing import StandardScaler\nfrom sklearn.linear_model import LinearRegression\nfrom sklearn.tree import DecisionTreeRegressor\nfrom sklearn.ensemble import RandomForestRegressor",
        "id": "3976d816-6d2e-41b5-bd2f-3eac2729c5ce"
      },
      "id": "3976d816-6d2e-41b5-bd2f-3eac2729c5ce",
      "cell_type": "code",
      "execution_count": 4,
      "outputs": []
    },
    {
      "cell_type": "code",
      "source": [
        "mlflow.__version__"
      ],
      "metadata": {
        "colab": {
          "base_uri": "https://localhost:8080/",
          "height": 36
        },
        "id": "ORnoZT5ggzap",
        "outputId": "a436aa93-2f88-4ff4-cac1-d3479dcf5e9d"
      },
      "id": "ORnoZT5ggzap",
      "execution_count": 33,
      "outputs": [
        {
          "output_type": "execute_result",
          "data": {
            "text/plain": [
              "'2.10.2'"
            ],
            "application/vnd.google.colaboratory.intrinsic+json": {
              "type": "string"
            }
          },
          "metadata": {},
          "execution_count": 33
        }
      ]
    },
    {
      "source": [
        "#load data\n",
        "data = pd.read_csv('/content/drive/MyDrive/london_weather.csv')\n",
        "df = data.copy()"
      ],
      "metadata": {
        "executionCancelledAt": null,
        "executionTime": 48,
        "lastExecutedAt": 1707180182907,
        "lastScheduledRunId": null,
        "lastSuccessfullyExecutedCode": "#load data\ndata = pd.read_csv('london_weather.csv')\ndf = data.copy()",
        "id": "86146a4c-5c3a-4073-9ee7-997212a50861"
      },
      "cell_type": "code",
      "id": "86146a4c-5c3a-4073-9ee7-997212a50861",
      "outputs": [],
      "execution_count": 5
    },
    {
      "source": [
        "df.head()"
      ],
      "metadata": {
        "executionCancelledAt": null,
        "executionTime": 61,
        "lastExecutedAt": 1707180182968,
        "lastScheduledRunId": null,
        "lastSuccessfullyExecutedCode": "df.head()",
        "outputsMetadata": {
          "0": {
            "height": 211,
            "type": "dataFrame"
          }
        },
        "colab": {
          "base_uri": "https://localhost:8080/",
          "height": 206
        },
        "id": "f1073517-c5db-4489-863a-4aa54738d8f7",
        "outputId": "52e5eac2-eb95-49db-8f36-3c75ea109095"
      },
      "cell_type": "code",
      "id": "f1073517-c5db-4489-863a-4aa54738d8f7",
      "outputs": [
        {
          "output_type": "execute_result",
          "data": {
            "text/plain": [
              "       date  cloud_cover  sunshine  global_radiation  max_temp  mean_temp  \\\n",
              "0  19790101          2.0       7.0              52.0       2.3       -4.1   \n",
              "1  19790102          6.0       1.7              27.0       1.6       -2.6   \n",
              "2  19790103          5.0       0.0              13.0       1.3       -2.8   \n",
              "3  19790104          8.0       0.0              13.0      -0.3       -2.6   \n",
              "4  19790105          6.0       2.0              29.0       5.6       -0.8   \n",
              "\n",
              "   min_temp  precipitation  pressure  snow_depth  \n",
              "0      -7.5            0.4  101900.0         9.0  \n",
              "1      -7.5            0.0  102530.0         8.0  \n",
              "2      -7.2            0.0  102050.0         4.0  \n",
              "3      -6.5            0.0  100840.0         2.0  \n",
              "4      -1.4            0.0  102250.0         1.0  "
            ],
            "text/html": [
              "\n",
              "  <div id=\"df-fe12d001-9d7f-476f-bc56-6b0b8707f09a\" class=\"colab-df-container\">\n",
              "    <div>\n",
              "<style scoped>\n",
              "    .dataframe tbody tr th:only-of-type {\n",
              "        vertical-align: middle;\n",
              "    }\n",
              "\n",
              "    .dataframe tbody tr th {\n",
              "        vertical-align: top;\n",
              "    }\n",
              "\n",
              "    .dataframe thead th {\n",
              "        text-align: right;\n",
              "    }\n",
              "</style>\n",
              "<table border=\"1\" class=\"dataframe\">\n",
              "  <thead>\n",
              "    <tr style=\"text-align: right;\">\n",
              "      <th></th>\n",
              "      <th>date</th>\n",
              "      <th>cloud_cover</th>\n",
              "      <th>sunshine</th>\n",
              "      <th>global_radiation</th>\n",
              "      <th>max_temp</th>\n",
              "      <th>mean_temp</th>\n",
              "      <th>min_temp</th>\n",
              "      <th>precipitation</th>\n",
              "      <th>pressure</th>\n",
              "      <th>snow_depth</th>\n",
              "    </tr>\n",
              "  </thead>\n",
              "  <tbody>\n",
              "    <tr>\n",
              "      <th>0</th>\n",
              "      <td>19790101</td>\n",
              "      <td>2.0</td>\n",
              "      <td>7.0</td>\n",
              "      <td>52.0</td>\n",
              "      <td>2.3</td>\n",
              "      <td>-4.1</td>\n",
              "      <td>-7.5</td>\n",
              "      <td>0.4</td>\n",
              "      <td>101900.0</td>\n",
              "      <td>9.0</td>\n",
              "    </tr>\n",
              "    <tr>\n",
              "      <th>1</th>\n",
              "      <td>19790102</td>\n",
              "      <td>6.0</td>\n",
              "      <td>1.7</td>\n",
              "      <td>27.0</td>\n",
              "      <td>1.6</td>\n",
              "      <td>-2.6</td>\n",
              "      <td>-7.5</td>\n",
              "      <td>0.0</td>\n",
              "      <td>102530.0</td>\n",
              "      <td>8.0</td>\n",
              "    </tr>\n",
              "    <tr>\n",
              "      <th>2</th>\n",
              "      <td>19790103</td>\n",
              "      <td>5.0</td>\n",
              "      <td>0.0</td>\n",
              "      <td>13.0</td>\n",
              "      <td>1.3</td>\n",
              "      <td>-2.8</td>\n",
              "      <td>-7.2</td>\n",
              "      <td>0.0</td>\n",
              "      <td>102050.0</td>\n",
              "      <td>4.0</td>\n",
              "    </tr>\n",
              "    <tr>\n",
              "      <th>3</th>\n",
              "      <td>19790104</td>\n",
              "      <td>8.0</td>\n",
              "      <td>0.0</td>\n",
              "      <td>13.0</td>\n",
              "      <td>-0.3</td>\n",
              "      <td>-2.6</td>\n",
              "      <td>-6.5</td>\n",
              "      <td>0.0</td>\n",
              "      <td>100840.0</td>\n",
              "      <td>2.0</td>\n",
              "    </tr>\n",
              "    <tr>\n",
              "      <th>4</th>\n",
              "      <td>19790105</td>\n",
              "      <td>6.0</td>\n",
              "      <td>2.0</td>\n",
              "      <td>29.0</td>\n",
              "      <td>5.6</td>\n",
              "      <td>-0.8</td>\n",
              "      <td>-1.4</td>\n",
              "      <td>0.0</td>\n",
              "      <td>102250.0</td>\n",
              "      <td>1.0</td>\n",
              "    </tr>\n",
              "  </tbody>\n",
              "</table>\n",
              "</div>\n",
              "    <div class=\"colab-df-buttons\">\n",
              "\n",
              "  <div class=\"colab-df-container\">\n",
              "    <button class=\"colab-df-convert\" onclick=\"convertToInteractive('df-fe12d001-9d7f-476f-bc56-6b0b8707f09a')\"\n",
              "            title=\"Convert this dataframe to an interactive table.\"\n",
              "            style=\"display:none;\">\n",
              "\n",
              "  <svg xmlns=\"http://www.w3.org/2000/svg\" height=\"24px\" viewBox=\"0 -960 960 960\">\n",
              "    <path d=\"M120-120v-720h720v720H120Zm60-500h600v-160H180v160Zm220 220h160v-160H400v160Zm0 220h160v-160H400v160ZM180-400h160v-160H180v160Zm440 0h160v-160H620v160ZM180-180h160v-160H180v160Zm440 0h160v-160H620v160Z\"/>\n",
              "  </svg>\n",
              "    </button>\n",
              "\n",
              "  <style>\n",
              "    .colab-df-container {\n",
              "      display:flex;\n",
              "      gap: 12px;\n",
              "    }\n",
              "\n",
              "    .colab-df-convert {\n",
              "      background-color: #E8F0FE;\n",
              "      border: none;\n",
              "      border-radius: 50%;\n",
              "      cursor: pointer;\n",
              "      display: none;\n",
              "      fill: #1967D2;\n",
              "      height: 32px;\n",
              "      padding: 0 0 0 0;\n",
              "      width: 32px;\n",
              "    }\n",
              "\n",
              "    .colab-df-convert:hover {\n",
              "      background-color: #E2EBFA;\n",
              "      box-shadow: 0px 1px 2px rgba(60, 64, 67, 0.3), 0px 1px 3px 1px rgba(60, 64, 67, 0.15);\n",
              "      fill: #174EA6;\n",
              "    }\n",
              "\n",
              "    .colab-df-buttons div {\n",
              "      margin-bottom: 4px;\n",
              "    }\n",
              "\n",
              "    [theme=dark] .colab-df-convert {\n",
              "      background-color: #3B4455;\n",
              "      fill: #D2E3FC;\n",
              "    }\n",
              "\n",
              "    [theme=dark] .colab-df-convert:hover {\n",
              "      background-color: #434B5C;\n",
              "      box-shadow: 0px 1px 3px 1px rgba(0, 0, 0, 0.15);\n",
              "      filter: drop-shadow(0px 1px 2px rgba(0, 0, 0, 0.3));\n",
              "      fill: #FFFFFF;\n",
              "    }\n",
              "  </style>\n",
              "\n",
              "    <script>\n",
              "      const buttonEl =\n",
              "        document.querySelector('#df-fe12d001-9d7f-476f-bc56-6b0b8707f09a button.colab-df-convert');\n",
              "      buttonEl.style.display =\n",
              "        google.colab.kernel.accessAllowed ? 'block' : 'none';\n",
              "\n",
              "      async function convertToInteractive(key) {\n",
              "        const element = document.querySelector('#df-fe12d001-9d7f-476f-bc56-6b0b8707f09a');\n",
              "        const dataTable =\n",
              "          await google.colab.kernel.invokeFunction('convertToInteractive',\n",
              "                                                    [key], {});\n",
              "        if (!dataTable) return;\n",
              "\n",
              "        const docLinkHtml = 'Like what you see? Visit the ' +\n",
              "          '<a target=\"_blank\" href=https://colab.research.google.com/notebooks/data_table.ipynb>data table notebook</a>'\n",
              "          + ' to learn more about interactive tables.';\n",
              "        element.innerHTML = '';\n",
              "        dataTable['output_type'] = 'display_data';\n",
              "        await google.colab.output.renderOutput(dataTable, element);\n",
              "        const docLink = document.createElement('div');\n",
              "        docLink.innerHTML = docLinkHtml;\n",
              "        element.appendChild(docLink);\n",
              "      }\n",
              "    </script>\n",
              "  </div>\n",
              "\n",
              "\n",
              "<div id=\"df-e1e6586c-6c74-497a-9a6e-942c0b038b1b\">\n",
              "  <button class=\"colab-df-quickchart\" onclick=\"quickchart('df-e1e6586c-6c74-497a-9a6e-942c0b038b1b')\"\n",
              "            title=\"Suggest charts\"\n",
              "            style=\"display:none;\">\n",
              "\n",
              "<svg xmlns=\"http://www.w3.org/2000/svg\" height=\"24px\"viewBox=\"0 0 24 24\"\n",
              "     width=\"24px\">\n",
              "    <g>\n",
              "        <path d=\"M19 3H5c-1.1 0-2 .9-2 2v14c0 1.1.9 2 2 2h14c1.1 0 2-.9 2-2V5c0-1.1-.9-2-2-2zM9 17H7v-7h2v7zm4 0h-2V7h2v10zm4 0h-2v-4h2v4z\"/>\n",
              "    </g>\n",
              "</svg>\n",
              "  </button>\n",
              "\n",
              "<style>\n",
              "  .colab-df-quickchart {\n",
              "      --bg-color: #E8F0FE;\n",
              "      --fill-color: #1967D2;\n",
              "      --hover-bg-color: #E2EBFA;\n",
              "      --hover-fill-color: #174EA6;\n",
              "      --disabled-fill-color: #AAA;\n",
              "      --disabled-bg-color: #DDD;\n",
              "  }\n",
              "\n",
              "  [theme=dark] .colab-df-quickchart {\n",
              "      --bg-color: #3B4455;\n",
              "      --fill-color: #D2E3FC;\n",
              "      --hover-bg-color: #434B5C;\n",
              "      --hover-fill-color: #FFFFFF;\n",
              "      --disabled-bg-color: #3B4455;\n",
              "      --disabled-fill-color: #666;\n",
              "  }\n",
              "\n",
              "  .colab-df-quickchart {\n",
              "    background-color: var(--bg-color);\n",
              "    border: none;\n",
              "    border-radius: 50%;\n",
              "    cursor: pointer;\n",
              "    display: none;\n",
              "    fill: var(--fill-color);\n",
              "    height: 32px;\n",
              "    padding: 0;\n",
              "    width: 32px;\n",
              "  }\n",
              "\n",
              "  .colab-df-quickchart:hover {\n",
              "    background-color: var(--hover-bg-color);\n",
              "    box-shadow: 0 1px 2px rgba(60, 64, 67, 0.3), 0 1px 3px 1px rgba(60, 64, 67, 0.15);\n",
              "    fill: var(--button-hover-fill-color);\n",
              "  }\n",
              "\n",
              "  .colab-df-quickchart-complete:disabled,\n",
              "  .colab-df-quickchart-complete:disabled:hover {\n",
              "    background-color: var(--disabled-bg-color);\n",
              "    fill: var(--disabled-fill-color);\n",
              "    box-shadow: none;\n",
              "  }\n",
              "\n",
              "  .colab-df-spinner {\n",
              "    border: 2px solid var(--fill-color);\n",
              "    border-color: transparent;\n",
              "    border-bottom-color: var(--fill-color);\n",
              "    animation:\n",
              "      spin 1s steps(1) infinite;\n",
              "  }\n",
              "\n",
              "  @keyframes spin {\n",
              "    0% {\n",
              "      border-color: transparent;\n",
              "      border-bottom-color: var(--fill-color);\n",
              "      border-left-color: var(--fill-color);\n",
              "    }\n",
              "    20% {\n",
              "      border-color: transparent;\n",
              "      border-left-color: var(--fill-color);\n",
              "      border-top-color: var(--fill-color);\n",
              "    }\n",
              "    30% {\n",
              "      border-color: transparent;\n",
              "      border-left-color: var(--fill-color);\n",
              "      border-top-color: var(--fill-color);\n",
              "      border-right-color: var(--fill-color);\n",
              "    }\n",
              "    40% {\n",
              "      border-color: transparent;\n",
              "      border-right-color: var(--fill-color);\n",
              "      border-top-color: var(--fill-color);\n",
              "    }\n",
              "    60% {\n",
              "      border-color: transparent;\n",
              "      border-right-color: var(--fill-color);\n",
              "    }\n",
              "    80% {\n",
              "      border-color: transparent;\n",
              "      border-right-color: var(--fill-color);\n",
              "      border-bottom-color: var(--fill-color);\n",
              "    }\n",
              "    90% {\n",
              "      border-color: transparent;\n",
              "      border-bottom-color: var(--fill-color);\n",
              "    }\n",
              "  }\n",
              "</style>\n",
              "\n",
              "  <script>\n",
              "    async function quickchart(key) {\n",
              "      const quickchartButtonEl =\n",
              "        document.querySelector('#' + key + ' button');\n",
              "      quickchartButtonEl.disabled = true;  // To prevent multiple clicks.\n",
              "      quickchartButtonEl.classList.add('colab-df-spinner');\n",
              "      try {\n",
              "        const charts = await google.colab.kernel.invokeFunction(\n",
              "            'suggestCharts', [key], {});\n",
              "      } catch (error) {\n",
              "        console.error('Error during call to suggestCharts:', error);\n",
              "      }\n",
              "      quickchartButtonEl.classList.remove('colab-df-spinner');\n",
              "      quickchartButtonEl.classList.add('colab-df-quickchart-complete');\n",
              "    }\n",
              "    (() => {\n",
              "      let quickchartButtonEl =\n",
              "        document.querySelector('#df-e1e6586c-6c74-497a-9a6e-942c0b038b1b button');\n",
              "      quickchartButtonEl.style.display =\n",
              "        google.colab.kernel.accessAllowed ? 'block' : 'none';\n",
              "    })();\n",
              "  </script>\n",
              "</div>\n",
              "    </div>\n",
              "  </div>\n"
            ]
          },
          "metadata": {},
          "execution_count": 6
        }
      ],
      "execution_count": 6
    },
    {
      "source": [
        "#Determine the column names, data types, number of non-null vales\n",
        "df.info()"
      ],
      "metadata": {
        "executionCancelledAt": null,
        "executionTime": 52,
        "lastExecutedAt": 1707180183020,
        "lastScheduledRunId": null,
        "lastSuccessfullyExecutedCode": "#Determine the column names, data types, number of non-null vales\ndf.info()",
        "outputsMetadata": {
          "0": {
            "height": 357,
            "type": "stream"
          }
        },
        "colab": {
          "base_uri": "https://localhost:8080/"
        },
        "id": "7f73003e-9183-4556-b298-33209706764d",
        "outputId": "917dcf46-ecb6-452a-bca9-3987ec303890"
      },
      "cell_type": "code",
      "id": "7f73003e-9183-4556-b298-33209706764d",
      "outputs": [
        {
          "output_type": "stream",
          "name": "stdout",
          "text": [
            "<class 'pandas.core.frame.DataFrame'>\n",
            "RangeIndex: 15341 entries, 0 to 15340\n",
            "Data columns (total 10 columns):\n",
            " #   Column            Non-Null Count  Dtype  \n",
            "---  ------            --------------  -----  \n",
            " 0   date              15341 non-null  int64  \n",
            " 1   cloud_cover       15322 non-null  float64\n",
            " 2   sunshine          15341 non-null  float64\n",
            " 3   global_radiation  15322 non-null  float64\n",
            " 4   max_temp          15335 non-null  float64\n",
            " 5   mean_temp         15305 non-null  float64\n",
            " 6   min_temp          15339 non-null  float64\n",
            " 7   precipitation     15335 non-null  float64\n",
            " 8   pressure          15337 non-null  float64\n",
            " 9   snow_depth        13900 non-null  float64\n",
            "dtypes: float64(9), int64(1)\n",
            "memory usage: 1.2 MB\n"
          ]
        }
      ],
      "execution_count": 7
    },
    {
      "source": [
        "## Data Cleaning"
      ],
      "metadata": {
        "id": "1cd4387c-6010-445c-aa2e-ffb397f05b3a"
      },
      "cell_type": "markdown",
      "id": "1cd4387c-6010-445c-aa2e-ffb397f05b3a"
    },
    {
      "source": [
        "df['date'] = pd.to_datetime(df['date'], format=\"%Y%m%d\")"
      ],
      "metadata": {
        "executionCancelledAt": null,
        "executionTime": 51,
        "lastExecutedAt": 1707180183071,
        "lastScheduledRunId": null,
        "lastSuccessfullyExecutedCode": "df['date'] = pd.to_datetime(df['date'], format=\"%Y%m%d\")",
        "id": "8b7db3c2-2cc5-49e3-b821-9758b1baf4ea"
      },
      "cell_type": "code",
      "id": "8b7db3c2-2cc5-49e3-b821-9758b1baf4ea",
      "outputs": [],
      "execution_count": 8
    },
    {
      "source": [
        "df['year'] = df['date'].dt.year\n",
        "df['month'] = df['date'].dt.month\n",
        "df['day'] = df['date'].dt.day"
      ],
      "metadata": {
        "executionCancelledAt": null,
        "executionTime": 52,
        "lastExecutedAt": 1707180183123,
        "lastScheduledRunId": null,
        "lastSuccessfullyExecutedCode": "df['year'] = df['date'].dt.year\ndf['month'] = df['date'].dt.month\ndf['day'] = df['date'].dt.day",
        "id": "19fc787e-613c-406f-8b15-2ebf663cc728"
      },
      "cell_type": "code",
      "id": "19fc787e-613c-406f-8b15-2ebf663cc728",
      "outputs": [],
      "execution_count": 9
    },
    {
      "source": [
        "## EDA"
      ],
      "metadata": {
        "id": "cebe0062-f005-4a56-88de-f664a20ee9d9"
      },
      "cell_type": "markdown",
      "id": "cebe0062-f005-4a56-88de-f664a20ee9d9"
    },
    {
      "source": [
        "#visualize \"mean_temp\" versus \"year\" and \"month\"\n",
        "fig, axs = plt.subplots(1,2, figsize=(10,6))\n",
        "sns.lineplot(data=df, x='month', y='mean_temp', ax=axs[0])\n",
        "axs[0].set_title('Mean Monthly Temperatures')\n",
        "\n",
        "sns.lineplot(data=df, x='year', y='mean_temp', ax=axs[1])\n",
        "axs[1].set_title('Mean Yearly Temperatures')\n",
        "\n",
        "plt.tight_layout()\n",
        "plt.show()"
      ],
      "metadata": {
        "executionCancelledAt": null,
        "executionTime": 1666,
        "lastExecutedAt": 1707180184789,
        "lastScheduledRunId": null,
        "lastSuccessfullyExecutedCode": "#visualize \"mean_temp\" versus \"year\" and \"month\"\nfig, axs = plt.subplots(1,2, figsize=(10,6))\nsns.lineplot(data=df, x='month', y='mean_temp', ax=axs[0])\naxs[0].set_title('Mean Monthly Temperatures')\n\nsns.lineplot(data=df, x='year', y='mean_temp', ax=axs[1])\naxs[1].set_title('Mean Yearly Temperatures')\n\nplt.tight_layout()\nplt.show()",
        "colab": {
          "base_uri": "https://localhost:8080/",
          "height": 607
        },
        "id": "b58e8397-d9a4-4b4e-8da3-289a1f7f7cf6",
        "outputId": "2685b0f7-0b7f-4be7-969e-b96c3e4a1ed2"
      },
      "cell_type": "code",
      "id": "b58e8397-d9a4-4b4e-8da3-289a1f7f7cf6",
      "outputs": [
        {
          "output_type": "display_data",
          "data": {
            "text/plain": [
              "<Figure size 1000x600 with 2 Axes>"
            ],
            "image/png": "[encoded data removed]"
          },
          "metadata": {}
        }
      ],
      "execution_count": 10
    },
    {
      "source": [
        "#view correlation between features\n",
        "corr_matrix = df.corr()\n",
        "fig, axes = plt.subplots(2,1, figsize=(10,10))\n",
        "\n",
        "sns.heatmap(corr_matrix[['mean_temp']], ax=axes[0])\n",
        "axes[0].set_title('Correlation of Features and Mean Temperature')\n",
        "\n",
        "sns.heatmap(corr_matrix, ax=axes[1])\n",
        "axes[1].set_title('Correlation of all Features')"
      ],
      "metadata": {
        "executionCancelledAt": null,
        "executionTime": 620,
        "lastExecutedAt": 1707180185409,
        "lastScheduledRunId": null,
        "lastSuccessfullyExecutedCode": "#view correlation between features\ncorr_matrix = df.corr()\nfig, axes = plt.subplots(2,1, figsize=(10,10))\n\nsns.heatmap(corr_matrix[['mean_temp']], ax=axes[0])\naxes[0].set_title('Correlation of Features and Mean Temperature')\n\nsns.heatmap(corr_matrix, ax=axes[1])\naxes[1].set_title('Correlation of all Features')",
        "colab": {
          "base_uri": "https://localhost:8080/",
          "height": 1000
        },
        "id": "3e0b2a1f-866a-47f7-8146-e93e0e6be54c",
        "outputId": "1dc31266-61d3-423a-a87b-bcb5013e2437"
      },
      "cell_type": "code",
      "id": "3e0b2a1f-866a-47f7-8146-e93e0e6be54c",
      "outputs": [
        {
          "output_type": "stream",
          "name": "stderr",
          "text": [
            "<ipython-input-11-f0330a24c62f>:2: FutureWarning: The default value of numeric_only in DataFrame.corr is deprecated. In a future version, it will default to False. Select only valid columns or specify the value of numeric_only to silence this warning.\n",
            "  corr_matrix = df.corr()\n"
          ]
        },
        {
          "output_type": "execute_result",
          "data": {
            "text/plain": [
              "Text(0.5, 1.0, 'Correlation of all Features')"
            ]
          },
          "metadata": {},
          "execution_count": 11
        },
        {
          "output_type": "display_data",
          "data": {
            "text/plain": [
              "<Figure size 1000x1000 with 4 Axes>"
            ],
            "image/png": "[encoded data removed]"
          },
          "metadata": {}
        }
      ],
      "execution_count": 11
    },
    {
      "source": [
        "### Feature Selection\n",
        "- Select features that are strongly correlated with mean temperature"
      ],
      "metadata": {
        "id": "bd126073-ae21-4dcd-b984-fe7e37181fcf"
      },
      "cell_type": "markdown",
      "id": "bd126073-ae21-4dcd-b984-fe7e37181fcf"
    },
    {
      "source": [
        "rel_features = corr_matrix[corr_matrix['mean_temp'] > 0.5].columns\n",
        "\n",
        "#select relevant features\n",
        "selected_df = df[rel_features]"
      ],
      "metadata": {
        "executionCancelledAt": null,
        "executionTime": 51,
        "lastExecutedAt": 1707180185460,
        "lastScheduledRunId": null,
        "lastSuccessfullyExecutedCode": "rel_features = corr_matrix[corr_matrix['mean_temp'] > 0.5].columns\n\n#select relevant features\nselected_df = df[rel_features]",
        "id": "ab2f5cab-2bc1-4a01-9a77-08b8c48577ff"
      },
      "cell_type": "code",
      "id": "ab2f5cab-2bc1-4a01-9a77-08b8c48577ff",
      "outputs": [],
      "execution_count": 12
    },
    {
      "source": [
        "#drop rows with missing values in the target variable\n",
        "selected_df.dropna(subset=['mean_temp'], inplace=True)"
      ],
      "metadata": {
        "executionCancelledAt": null,
        "executionTime": 50,
        "lastExecutedAt": 1707180185511,
        "lastScheduledRunId": null,
        "lastSuccessfullyExecutedCode": "#drop rows with missing values in the target variable\nselected_df.dropna(subset=['mean_temp'], inplace=True)",
        "colab": {
          "base_uri": "https://localhost:8080/"
        },
        "id": "15f0ae7e-f45e-49d5-a793-3319d6e382e3",
        "outputId": "0597b304-fb48-47e8-b909-c6008275717a"
      },
      "cell_type": "code",
      "id": "15f0ae7e-f45e-49d5-a793-3319d6e382e3",
      "outputs": [
        {
          "output_type": "stream",
          "name": "stderr",
          "text": [
            "<ipython-input-13-2fd4ad584b63>:2: SettingWithCopyWarning: \n",
            "A value is trying to be set on a copy of a slice from a DataFrame\n",
            "\n",
            "See the caveats in the documentation: https://pandas.pydata.org/pandas-docs/stable/user_guide/indexing.html#returning-a-view-versus-a-copy\n",
            "  selected_df.dropna(subset=['mean_temp'], inplace=True)\n"
          ]
        }
      ],
      "execution_count": 13
    },
    {
      "source": [
        "## Data Preprocessing\n",
        "\n",
        "- Splitting data into train and test sets\n",
        "- Handling missing values\n",
        "- Data Normalisation"
      ],
      "metadata": {
        "id": "d6a97fb4-a351-40b7-b067-967420334e55"
      },
      "cell_type": "markdown",
      "id": "d6a97fb4-a351-40b7-b067-967420334e55"
    },
    {
      "source": [
        "#split data\n",
        "X = selected_df\n",
        "y = X.pop('mean_temp')\n",
        "X_train, X_test, y_train, y_test =  train_test_split(X ,y, test_size=0.3, random_state=42)"
      ],
      "metadata": {
        "executionCancelledAt": null,
        "executionTime": 52,
        "lastExecutedAt": 1707180185563,
        "lastScheduledRunId": null,
        "lastSuccessfullyExecutedCode": "#split data\nX = selected_df\ny = X.pop('mean_temp')\nX_train, X_test, y_train, y_test =  train_test_split(X ,y, test_size=0.3, random_state=42)",
        "id": "ab6344ad-82fe-4c92-89e3-f717d133a05c"
      },
      "cell_type": "code",
      "id": "ab6344ad-82fe-4c92-89e3-f717d133a05c",
      "outputs": [],
      "execution_count": 14
    },
    {
      "source": [
        "#pipeline for data preprocessing\n",
        "preprocess_df = make_pipeline(SimpleImputer(), StandardScaler())"
      ],
      "metadata": {
        "executionCancelledAt": null,
        "executionTime": 51,
        "lastExecutedAt": 1707180185667,
        "lastScheduledRunId": null,
        "lastSuccessfullyExecutedCode": "#pipeline for data preprocessing\npreprocess_df = make_pipeline(SimpleImputer(), StandardScaler())",
        "outputsMetadata": {
          "0": {
            "height": 57,
            "type": "stream"
          }
        },
        "id": "e40bce6d-81f8-481a-839a-1bbd6cc5042f"
      },
      "cell_type": "code",
      "id": "e40bce6d-81f8-481a-839a-1bbd6cc5042f",
      "outputs": [],
      "execution_count": 15
    },
    {
      "source": [
        "#preprocess training and test set\n",
        "newX_train = preprocess_df.fit_transform(X_train)\n",
        "newX_test = preprocess_df.transform(X_test)"
      ],
      "metadata": {
        "executionCancelledAt": null,
        "executionTime": 54,
        "lastExecutedAt": 1707180185723,
        "lastScheduledRunId": null,
        "lastSuccessfullyExecutedCode": "#preprocess training and test set\nnewX_train = preprocess_df.fit_transform(X_train)\nnewX_test = preprocess_df.transform(X_test)",
        "id": "bba4ed7f-6cbd-43d8-99f6-b796468a5c26"
      },
      "cell_type": "code",
      "id": "bba4ed7f-6cbd-43d8-99f6-b796468a5c26",
      "outputs": [],
      "execution_count": 16
    },
    {
      "source": [
        "### Model Tracking and Training"
      ],
      "metadata": {
        "id": "f3e348b0-77ca-472c-af68-aa0f1f80eb60"
      },
      "cell_type": "markdown",
      "id": "f3e348b0-77ca-472c-af68-aa0f1f80eb60"
    },
    {
      "source": [
        "### Model Logging and evaluating with MLflow"
      ],
      "metadata": {
        "id": "bc020357-570b-4e6e-b26f-766f1f147c34"
      },
      "cell_type": "markdown",
      "id": "bc020357-570b-4e6e-b26f-766f1f147c34"
    },
    {
      "source": [
        "mlflow.set_experiment('London Temperature')"
      ],
      "metadata": {
        "executionCancelledAt": null,
        "executionTime": 52,
        "lastExecutedAt": 1707180185776,
        "lastScheduledRunId": null,
        "lastSuccessfullyExecutedCode": "mlflow.set_experiment('Predict Mean Temperature')",
        "outputsMetadata": {
          "0": {
            "height": 57,
            "type": "stream"
          }
        },
        "id": "7a1183e5-1c0b-47b7-8363-76307b0e1759",
        "colab": {
          "base_uri": "https://localhost:8080/"
        },
        "outputId": "044a0f9a-8261-42e8-870d-7017329eebf8"
      },
      "cell_type": "code",
      "id": "7a1183e5-1c0b-47b7-8363-76307b0e1759",
      "outputs": [
        {
          "output_type": "stream",
          "name": "stderr",
          "text": [
            "2024/02/11 09:11:21 INFO mlflow.tracking.fluent: Experiment with name 'London Temperature' does not exist. Creating a new experiment.\n"
          ]
        },
        {
          "output_type": "execute_result",
          "data": {
            "text/plain": [
              "<Experiment: artifact_location='file:///content/mlruns/933603017728201695', creation_time=1707642681424, experiment_id='933603017728201695', last_update_time=1707642681424, lifecycle_stage='active', name='London Temperature', tags={}>"
            ]
          },
          "metadata": {},
          "execution_count": 17
        }
      ],
      "execution_count": 17
    },
    {
      "source": [
        "for idx, depth in enumerate([1,5,10,20]):\n",
        "    run_name = f\"run_{idx}\"\n",
        "\n",
        "    with mlflow.start_run():\n",
        "        #Train models\n",
        "        lr = LinearRegression()\n",
        "        lr.fit(newX_train,y_train)\n",
        "\n",
        "        dt = DecisionTreeRegressor(max_depth=depth)\n",
        "        dt.fit(newX_train, y_train)\n",
        "\n",
        "\n",
        "        rf = RandomForestRegressor(max_depth=depth)\n",
        "        rf.fit(newX_train, y_train)\n",
        "\n",
        "\n",
        "        #calculate RMSE\n",
        "        mlflow.log_metric(\"lr_rmse\", mean_squared_error(y_test, lr.predict(newX_test),squared=False))\n",
        "        mlflow.log_metric(\"dt_rmse\", mean_squared_error(y_test, dt.predict(newX_test), squared=False))\n",
        "        mlflow.log_metric(\"rf_rmse\", mean_squared_error(y_test, rf.predict(newX_test), squared=False))\n",
        "\n",
        "        # Log the trained model as an artifact\n",
        "        mlflow.sklearn.log_model(lr, \"lr_model\", registered_model_name=\"lrtemp\")\n",
        "        mlflow.sklearn.log_model(dt, \"dt_model\", registered_model_name=\"dttemp\")\n",
        "        mlflow.sklearn.log_model(rf, \"rf_model\", registered_model_name=\"rftemp\")\n",
        "\n"
      ],
      "metadata": {
        "executionCancelledAt": null,
        "executionTime": 51828,
        "lastExecutedAt": 1707180237605,
        "lastScheduledRunId": null,
        "lastSuccessfullyExecutedCode": "for idx, depth in enumerate([1,5,10,20]):\n    run_name = f\"run_{idx}\"\n    \n    with mlflow.start_run():\n        #Train models\n        lr = LinearRegression()\n        lr.fit(newX_train,y_train)\n        \n        dt = DecisionTreeRegressor(max_depth=depth)\n        dt.fit(newX_train, y_train)\n        \n        \n        rf = RandomForestRegressor(max_depth=depth)\n        rf.fit(newX_train, y_train)        \n        \n    \n        #calculate RMSE\n        mlflow.log_metric(\"lr_rmse\", mean_squared_error(y_test, lr.predict(newX_test),squared=False))\n        mlflow.log_metric(\"dt_rmse\", mean_squared_error(y_test, dt.predict(newX_test), squared=False))\n        mlflow.log_metric(\"rf_rmse\", mean_squared_error(y_test, rf.predict(newX_test), squared=False))\n    \n        # Log the trained model as an artifact\n        mlflow.sklearn.log_model(lr, \"lr_model\")\n        mlflow.sklearn.log_model(dt, \"dt_model\")\n        mlflow.sklearn.log_model(rf, \"rf_model\")              \n    \n",
        "id": "2a832cc6-343d-4d5f-ab92-46b178e922e1",
        "colab": {
          "base_uri": "https://localhost:8080/"
        },
        "outputId": "dde694f7-8917-4741-e499-26faa0c9ef78"
      },
      "cell_type": "code",
      "id": "2a832cc6-343d-4d5f-ab92-46b178e922e1",
      "outputs": [
        {
          "output_type": "stream",
          "name": "stderr",
          "text": [
            "/usr/local/lib/python3.10/dist-packages/_distutils_hack/__init__.py:33: UserWarning: Setuptools is replacing distutils.\n",
            "  warnings.warn(\"Setuptools is replacing distutils.\")\n",
            "Successfully registered model 'lrtemp'.\n",
            "Created version '1' of model 'lrtemp'.\n",
            "Successfully registered model 'dttemp'.\n",
            "Created version '1' of model 'dttemp'.\n",
            "Successfully registered model 'rftemp'.\n",
            "Created version '1' of model 'rftemp'.\n",
            "Registered model 'lrtemp' already exists. Creating a new version of this model...\n",
            "Created version '2' of model 'lrtemp'.\n",
            "Registered model 'dttemp' already exists. Creating a new version of this model...\n",
            "Created version '2' of model 'dttemp'.\n",
            "Registered model 'rftemp' already exists. Creating a new version of this model...\n",
            "Created version '2' of model 'rftemp'.\n",
            "Registered model 'lrtemp' already exists. Creating a new version of this model...\n",
            "Created version '3' of model 'lrtemp'.\n",
            "Registered model 'dttemp' already exists. Creating a new version of this model...\n",
            "Created version '3' of model 'dttemp'.\n",
            "Registered model 'rftemp' already exists. Creating a new version of this model...\n",
            "Created version '3' of model 'rftemp'.\n",
            "Registered model 'lrtemp' already exists. Creating a new version of this model...\n",
            "Created version '4' of model 'lrtemp'.\n",
            "Registered model 'dttemp' already exists. Creating a new version of this model...\n",
            "Created version '4' of model 'dttemp'.\n",
            "Registered model 'rftemp' already exists. Creating a new version of this model...\n",
            "Created version '4' of model 'rftemp'.\n"
          ]
        }
      ],
      "execution_count": 18
    },
    {
      "source": [
        "### Searching logged results"
      ],
      "metadata": {
        "id": "66a488ec-b54e-4c58-9289-f6f0abff8306"
      },
      "cell_type": "markdown",
      "id": "66a488ec-b54e-4c58-9289-f6f0abff8306"
    },
    {
      "source": [
        "experiment_results = mlflow.search_runs()\n",
        "experiment_results"
      ],
      "metadata": {
        "executionCancelledAt": null,
        "executionTime": 387,
        "lastExecutedAt": 1707180237993,
        "lastScheduledRunId": null,
        "lastSuccessfullyExecutedCode": "experiment_results = mlflow.search_runs()\nexperiment_results",
        "outputsMetadata": {
          "0": {
            "height": 335,
            "type": "dataFrame"
          }
        },
        "visualizeDataframe": false,
        "chartConfig": {
          "bar": {
            "hasRoundedCorners": true,
            "stacked": false
          },
          "type": "line",
          "version": "v1"
        },
        "id": "04d7baf4-731a-46f0-ac05-57d73f0116b8",
        "colab": {
          "base_uri": "https://localhost:8080/",
          "height": 264
        },
        "outputId": "e76244f3-22b2-4da2-b9fb-ce38bdb0f127"
      },
      "cell_type": "code",
      "id": "04d7baf4-731a-46f0-ac05-57d73f0116b8",
      "outputs": [
        {
          "output_type": "execute_result",
          "data": {
            "text/plain": [
              "                             run_id       experiment_id    status  \\\n",
              "0  ad694950db5f4e639a7718967dba6a7d  933603017728201695  FINISHED   \n",
              "1  f7f241b04c514da5803122f117c06638  933603017728201695  FINISHED   \n",
              "2  4e6c567eb1974bc1977b82c502427919  933603017728201695  FINISHED   \n",
              "3  862520d77bf145f1899e21c04e7f5fc1  933603017728201695  FINISHED   \n",
              "\n",
              "                                        artifact_uri  \\\n",
              "0  file:///content/mlruns/933603017728201695/ad69...   \n",
              "1  file:///content/mlruns/933603017728201695/f7f2...   \n",
              "2  file:///content/mlruns/933603017728201695/4e6c...   \n",
              "3  file:///content/mlruns/933603017728201695/8625...   \n",
              "\n",
              "                        start_time                         end_time  \\\n",
              "0 2024-02-11 09:12:11.312000+00:00 2024-02-11 09:12:26.349000+00:00   \n",
              "1 2024-02-11 09:11:58.860000+00:00 2024-02-11 09:12:11.309000+00:00   \n",
              "2 2024-02-11 09:11:44.194000+00:00 2024-02-11 09:11:58.857000+00:00   \n",
              "3 2024-02-11 09:11:21.542000+00:00 2024-02-11 09:11:44.188000+00:00   \n",
              "\n",
              "   metrics.rf_rmse  metrics.lr_rmse  metrics.dt_rmse tags.mlflow.user  \\\n",
              "0         0.867342         0.874095         1.234139             root   \n",
              "1         0.860079         0.874095         1.036032             root   \n",
              "2         1.079573         0.874095         1.253021             root   \n",
              "3         3.325867         0.874095         3.410216             root   \n",
              "\n",
              "  tags.mlflow.source.type tags.mlflow.runName  \\\n",
              "0                   LOCAL       bald-vole-487   \n",
              "1                   LOCAL      angry-foal-824   \n",
              "2                   LOCAL  crawling-stoat-437   \n",
              "3                   LOCAL  indecisive-eel-218   \n",
              "\n",
              "                       tags.mlflow.log-model.history  \\\n",
              "0  [{\"run_id\": \"ad694950db5f4e639a7718967dba6a7d\"...   \n",
              "1  [{\"run_id\": \"f7f241b04c514da5803122f117c06638\"...   \n",
              "2  [{\"run_id\": \"4e6c567eb1974bc1977b82c502427919\"...   \n",
              "3  [{\"run_id\": \"862520d77bf145f1899e21c04e7f5fc1\"...   \n",
              "\n",
              "                             tags.mlflow.source.name  \n",
              "0  /usr/local/lib/python3.10/dist-packages/colab_...  \n",
              "1  /usr/local/lib/python3.10/dist-packages/colab_...  \n",
              "2  /usr/local/lib/python3.10/dist-packages/colab_...  \n",
              "3  /usr/local/lib/python3.10/dist-packages/colab_...  "
            ],
            "text/html": [
              "\n",
              "  <div id=\"df-4f74196e-730e-4430-8af6-bfde653bf1b2\" class=\"colab-df-container\">\n",
              "    <div>\n",
              "<style scoped>\n",
              "    .dataframe tbody tr th:only-of-type {\n",
              "        vertical-align: middle;\n",
              "    }\n",
              "\n",
              "    .dataframe tbody tr th {\n",
              "        vertical-align: top;\n",
              "    }\n",
              "\n",
              "    .dataframe thead th {\n",
              "        text-align: right;\n",
              "    }\n",
              "</style>\n",
              "<table border=\"1\" class=\"dataframe\">\n",
              "  <thead>\n",
              "    <tr style=\"text-align: right;\">\n",
              "      <th></th>\n",
              "      <th>run_id</th>\n",
              "      <th>experiment_id</th>\n",
              "      <th>status</th>\n",
              "      <th>artifact_uri</th>\n",
              "      <th>start_time</th>\n",
              "      <th>end_time</th>\n",
              "      <th>metrics.rf_rmse</th>\n",
              "      <th>metrics.lr_rmse</th>\n",
              "      <th>metrics.dt_rmse</th>\n",
              "      <th>tags.mlflow.user</th>\n",
              "      <th>tags.mlflow.source.type</th>\n",
              "      <th>tags.mlflow.runName</th>\n",
              "      <th>tags.mlflow.log-model.history</th>\n",
              "      <th>tags.mlflow.source.name</th>\n",
              "    </tr>\n",
              "  </thead>\n",
              "  <tbody>\n",
              "    <tr>\n",
              "      <th>0</th>\n",
              "      <td>ad694950db5f4e639a7718967dba6a7d</td>\n",
              "      <td>933603017728201695</td>\n",
              "      <td>FINISHED</td>\n",
              "      <td>file:///content/mlruns/933603017728201695/ad69...</td>\n",
              "      <td>2024-02-11 09:12:11.312000+00:00</td>\n",
              "      <td>2024-02-11 09:12:26.349000+00:00</td>\n",
              "      <td>0.867342</td>\n",
              "      <td>0.874095</td>\n",
              "      <td>1.234139</td>\n",
              "      <td>root</td>\n",
              "      <td>LOCAL</td>\n",
              "      <td>bald-vole-487</td>\n",
              "      <td>[{\"run_id\": \"ad694950db5f4e639a7718967dba6a7d\"...</td>\n",
              "      <td>/usr/local/lib/python3.10/dist-packages/colab_...</td>\n",
              "    </tr>\n",
              "    <tr>\n",
              "      <th>1</th>\n",
              "      <td>f7f241b04c514da5803122f117c06638</td>\n",
              "      <td>933603017728201695</td>\n",
              "      <td>FINISHED</td>\n",
              "      <td>file:///content/mlruns/933603017728201695/f7f2...</td>\n",
              "      <td>2024-02-11 09:11:58.860000+00:00</td>\n",
              "      <td>2024-02-11 09:12:11.309000+00:00</td>\n",
              "      <td>0.860079</td>\n",
              "      <td>0.874095</td>\n",
              "      <td>1.036032</td>\n",
              "      <td>root</td>\n",
              "      <td>LOCAL</td>\n",
              "      <td>angry-foal-824</td>\n",
              "      <td>[{\"run_id\": \"f7f241b04c514da5803122f117c06638\"...</td>\n",
              "      <td>/usr/local/lib/python3.10/dist-packages/colab_...</td>\n",
              "    </tr>\n",
              "    <tr>\n",
              "      <th>2</th>\n",
              "      <td>4e6c567eb1974bc1977b82c502427919</td>\n",
              "      <td>933603017728201695</td>\n",
              "      <td>FINISHED</td>\n",
              "      <td>file:///content/mlruns/933603017728201695/4e6c...</td>\n",
              "      <td>2024-02-11 09:11:44.194000+00:00</td>\n",
              "      <td>2024-02-11 09:11:58.857000+00:00</td>\n",
              "      <td>1.079573</td>\n",
              "      <td>0.874095</td>\n",
              "      <td>1.253021</td>\n",
              "      <td>root</td>\n",
              "      <td>LOCAL</td>\n",
              "      <td>crawling-stoat-437</td>\n",
              "      <td>[{\"run_id\": \"4e6c567eb1974bc1977b82c502427919\"...</td>\n",
              "      <td>/usr/local/lib/python3.10/dist-packages/colab_...</td>\n",
              "    </tr>\n",
              "    <tr>\n",
              "      <th>3</th>\n",
              "      <td>862520d77bf145f1899e21c04e7f5fc1</td>\n",
              "      <td>933603017728201695</td>\n",
              "      <td>FINISHED</td>\n",
              "      <td>file:///content/mlruns/933603017728201695/8625...</td>\n",
              "      <td>2024-02-11 09:11:21.542000+00:00</td>\n",
              "      <td>2024-02-11 09:11:44.188000+00:00</td>\n",
              "      <td>3.325867</td>\n",
              "      <td>0.874095</td>\n",
              "      <td>3.410216</td>\n",
              "      <td>root</td>\n",
              "      <td>LOCAL</td>\n",
              "      <td>indecisive-eel-218</td>\n",
              "      <td>[{\"run_id\": \"862520d77bf145f1899e21c04e7f5fc1\"...</td>\n",
              "      <td>/usr/local/lib/python3.10/dist-packages/colab_...</td>\n",
              "    </tr>\n",
              "  </tbody>\n",
              "</table>\n",
              "</div>\n",
              "    <div class=\"colab-df-buttons\">\n",
              "\n",
              "  <div class=\"colab-df-container\">\n",
              "    <button class=\"colab-df-convert\" onclick=\"convertToInteractive('df-4f74196e-730e-4430-8af6-bfde653bf1b2')\"\n",
              "            title=\"Convert this dataframe to an interactive table.\"\n",
              "            style=\"display:none;\">\n",
              "\n",
              "  <svg xmlns=\"http://www.w3.org/2000/svg\" height=\"24px\" viewBox=\"0 -960 960 960\">\n",
              "    <path d=\"M120-120v-720h720v720H120Zm60-500h600v-160H180v160Zm220 220h160v-160H400v160Zm0 220h160v-160H400v160ZM180-400h160v-160H180v160Zm440 0h160v-160H620v160ZM180-180h160v-160H180v160Zm440 0h160v-160H620v160Z\"/>\n",
              "  </svg>\n",
              "    </button>\n",
              "\n",
              "  <style>\n",
              "    .colab-df-container {\n",
              "      display:flex;\n",
              "      gap: 12px;\n",
              "    }\n",
              "\n",
              "    .colab-df-convert {\n",
              "      background-color: #E8F0FE;\n",
              "      border: none;\n",
              "      border-radius: 50%;\n",
              "      cursor: pointer;\n",
              "      display: none;\n",
              "      fill: #1967D2;\n",
              "      height: 32px;\n",
              "      padding: 0 0 0 0;\n",
              "      width: 32px;\n",
              "    }\n",
              "\n",
              "    .colab-df-convert:hover {\n",
              "      background-color: #E2EBFA;\n",
              "      box-shadow: 0px 1px 2px rgba(60, 64, 67, 0.3), 0px 1px 3px 1px rgba(60, 64, 67, 0.15);\n",
              "      fill: #174EA6;\n",
              "    }\n",
              "\n",
              "    .colab-df-buttons div {\n",
              "      margin-bottom: 4px;\n",
              "    }\n",
              "\n",
              "    [theme=dark] .colab-df-convert {\n",
              "      background-color: #3B4455;\n",
              "      fill: #D2E3FC;\n",
              "    }\n",
              "\n",
              "    [theme=dark] .colab-df-convert:hover {\n",
              "      background-color: #434B5C;\n",
              "      box-shadow: 0px 1px 3px 1px rgba(0, 0, 0, 0.15);\n",
              "      filter: drop-shadow(0px 1px 2px rgba(0, 0, 0, 0.3));\n",
              "      fill: #FFFFFF;\n",
              "    }\n",
              "  </style>\n",
              "\n",
              "    <script>\n",
              "      const buttonEl =\n",
              "        document.querySelector('#df-4f74196e-730e-4430-8af6-bfde653bf1b2 button.colab-df-convert');\n",
              "      buttonEl.style.display =\n",
              "        google.colab.kernel.accessAllowed ? 'block' : 'none';\n",
              "\n",
              "      async function convertToInteractive(key) {\n",
              "        const element = document.querySelector('#df-4f74196e-730e-4430-8af6-bfde653bf1b2');\n",
              "        const dataTable =\n",
              "          await google.colab.kernel.invokeFunction('convertToInteractive',\n",
              "                                                    [key], {});\n",
              "        if (!dataTable) return;\n",
              "\n",
              "        const docLinkHtml = 'Like what you see? Visit the ' +\n",
              "          '<a target=\"_blank\" href=https://colab.research.google.com/notebooks/data_table.ipynb>data table notebook</a>'\n",
              "          + ' to learn more about interactive tables.';\n",
              "        element.innerHTML = '';\n",
              "        dataTable['output_type'] = 'display_data';\n",
              "        await google.colab.output.renderOutput(dataTable, element);\n",
              "        const docLink = document.createElement('div');\n",
              "        docLink.innerHTML = docLinkHtml;\n",
              "        element.appendChild(docLink);\n",
              "      }\n",
              "    </script>\n",
              "  </div>\n",
              "\n",
              "\n",
              "<div id=\"df-914c5fc4-c3df-4856-b284-3c5a2bd952d8\">\n",
              "  <button class=\"colab-df-quickchart\" onclick=\"quickchart('df-914c5fc4-c3df-4856-b284-3c5a2bd952d8')\"\n",
              "            title=\"Suggest charts\"\n",
              "            style=\"display:none;\">\n",
              "\n",
              "<svg xmlns=\"http://www.w3.org/2000/svg\" height=\"24px\"viewBox=\"0 0 24 24\"\n",
              "     width=\"24px\">\n",
              "    <g>\n",
              "        <path d=\"M19 3H5c-1.1 0-2 .9-2 2v14c0 1.1.9 2 2 2h14c1.1 0 2-.9 2-2V5c0-1.1-.9-2-2-2zM9 17H7v-7h2v7zm4 0h-2V7h2v10zm4 0h-2v-4h2v4z\"/>\n",
              "    </g>\n",
              "</svg>\n",
              "  </button>\n",
              "\n",
              "<style>\n",
              "  .colab-df-quickchart {\n",
              "      --bg-color: #E8F0FE;\n",
              "      --fill-color: #1967D2;\n",
              "      --hover-bg-color: #E2EBFA;\n",
              "      --hover-fill-color: #174EA6;\n",
              "      --disabled-fill-color: #AAA;\n",
              "      --disabled-bg-color: #DDD;\n",
              "  }\n",
              "\n",
              "  [theme=dark] .colab-df-quickchart {\n",
              "      --bg-color: #3B4455;\n",
              "      --fill-color: #D2E3FC;\n",
              "      --hover-bg-color: #434B5C;\n",
              "      --hover-fill-color: #FFFFFF;\n",
              "      --disabled-bg-color: #3B4455;\n",
              "      --disabled-fill-color: #666;\n",
              "  }\n",
              "\n",
              "  .colab-df-quickchart {\n",
              "    background-color: var(--bg-color);\n",
              "    border: none;\n",
              "    border-radius: 50%;\n",
              "    cursor: pointer;\n",
              "    display: none;\n",
              "    fill: var(--fill-color);\n",
              "    height: 32px;\n",
              "    padding: 0;\n",
              "    width: 32px;\n",
              "  }\n",
              "\n",
              "  .colab-df-quickchart:hover {\n",
              "    background-color: var(--hover-bg-color);\n",
              "    box-shadow: 0 1px 2px rgba(60, 64, 67, 0.3), 0 1px 3px 1px rgba(60, 64, 67, 0.15);\n",
              "    fill: var(--button-hover-fill-color);\n",
              "  }\n",
              "\n",
              "  .colab-df-quickchart-complete:disabled,\n",
              "  .colab-df-quickchart-complete:disabled:hover {\n",
              "    background-color: var(--disabled-bg-color);\n",
              "    fill: var(--disabled-fill-color);\n",
              "    box-shadow: none;\n",
              "  }\n",
              "\n",
              "  .colab-df-spinner {\n",
              "    border: 2px solid var(--fill-color);\n",
              "    border-color: transparent;\n",
              "    border-bottom-color: var(--fill-color);\n",
              "    animation:\n",
              "      spin 1s steps(1) infinite;\n",
              "  }\n",
              "\n",
              "  @keyframes spin {\n",
              "    0% {\n",
              "      border-color: transparent;\n",
              "      border-bottom-color: var(--fill-color);\n",
              "      border-left-color: var(--fill-color);\n",
              "    }\n",
              "    20% {\n",
              "      border-color: transparent;\n",
              "      border-left-color: var(--fill-color);\n",
              "      border-top-color: var(--fill-color);\n",
              "    }\n",
              "    30% {\n",
              "      border-color: transparent;\n",
              "      border-left-color: var(--fill-color);\n",
              "      border-top-color: var(--fill-color);\n",
              "      border-right-color: var(--fill-color);\n",
              "    }\n",
              "    40% {\n",
              "      border-color: transparent;\n",
              "      border-right-color: var(--fill-color);\n",
              "      border-top-color: var(--fill-color);\n",
              "    }\n",
              "    60% {\n",
              "      border-color: transparent;\n",
              "      border-right-color: var(--fill-color);\n",
              "    }\n",
              "    80% {\n",
              "      border-color: transparent;\n",
              "      border-right-color: var(--fill-color);\n",
              "      border-bottom-color: var(--fill-color);\n",
              "    }\n",
              "    90% {\n",
              "      border-color: transparent;\n",
              "      border-bottom-color: var(--fill-color);\n",
              "    }\n",
              "  }\n",
              "</style>\n",
              "\n",
              "  <script>\n",
              "    async function quickchart(key) {\n",
              "      const quickchartButtonEl =\n",
              "        document.querySelector('#' + key + ' button');\n",
              "      quickchartButtonEl.disabled = true;  // To prevent multiple clicks.\n",
              "      quickchartButtonEl.classList.add('colab-df-spinner');\n",
              "      try {\n",
              "        const charts = await google.colab.kernel.invokeFunction(\n",
              "            'suggestCharts', [key], {});\n",
              "      } catch (error) {\n",
              "        console.error('Error during call to suggestCharts:', error);\n",
              "      }\n",
              "      quickchartButtonEl.classList.remove('colab-df-spinner');\n",
              "      quickchartButtonEl.classList.add('colab-df-quickchart-complete');\n",
              "    }\n",
              "    (() => {\n",
              "      let quickchartButtonEl =\n",
              "        document.querySelector('#df-914c5fc4-c3df-4856-b284-3c5a2bd952d8 button');\n",
              "      quickchartButtonEl.style.display =\n",
              "        google.colab.kernel.accessAllowed ? 'block' : 'none';\n",
              "    })();\n",
              "  </script>\n",
              "</div>\n",
              "    </div>\n",
              "  </div>\n"
            ]
          },
          "metadata": {},
          "execution_count": 19
        }
      ],
      "execution_count": 19
    },
    {
      "cell_type": "markdown",
      "source": [
        "## Model Evaluation\n",
        "- The Random Regressor gives the best result with RMSE of 0.861"
      ],
      "metadata": {
        "id": "WM1W4jVXzqOG"
      },
      "id": "WM1W4jVXzqOG"
    },
    {
      "cell_type": "code",
      "source": [
        "# Sort the DataFrame by the metrics columns in ascending order\n",
        "df_sorted_dt_rmse = experiment_results.sort_values(by='metrics.dt_rmse')\n",
        "df_sorted_rf_rmse = experiment_results.sort_values(by='metrics.rf_rmse')\n",
        "df_sorted_lr_rmse = experiment_results.sort_values(by='metrics.lr_rmse')\n",
        "\n",
        "# Get the best model for each metric\n",
        "best_model_dt_rmse = df_sorted_dt_rmse.iloc[0]\n",
        "best_model_rf_rmse = df_sorted_rf_rmse.iloc[0]\n",
        "best_model_lr_rmse = df_sorted_lr_rmse.iloc[0]"
      ],
      "metadata": {
        "id": "IFL5XtAEhIwm"
      },
      "id": "IFL5XtAEhIwm",
      "execution_count": 20,
      "outputs": []
    },
    {
      "cell_type": "code",
      "source": [
        "print(\"Best model based on Decision regressor model:\")\n",
        "print(best_model_dt_rmse['metrics.dt_rmse'])\n",
        "\n",
        "print(\"\\nBest model based on Random Forest regressor model:\")\n",
        "print(best_model_rf_rmse['metrics.rf_rmse'])\n",
        "\n",
        "print(\"\\nBest model based on Linear regression model:\")\n",
        "print(best_model_lr_rmse['metrics.lr_rmse'])"
      ],
      "metadata": {
        "colab": {
          "base_uri": "https://localhost:8080/"
        },
        "id": "FGx7qshb398O",
        "outputId": "43434669-2524-49b6-acf0-1ca7693bb42c"
      },
      "id": "FGx7qshb398O",
      "execution_count": 21,
      "outputs": [
        {
          "output_type": "stream",
          "name": "stdout",
          "text": [
            "Best model based on Decision regressor model:\n",
            "1.0360323928745716\n",
            "\n",
            "Best model based on Random Forest regressor model:\n",
            "0.8600789718185069\n",
            "\n",
            "Best model based on Linear regression model:\n",
            "0.8740945341822215\n"
          ]
        }
      ]
    },
    {
      "cell_type": "code",
      "source": [
        "#View the random regressor model\n",
        "client = mlflow.MlflowClient()\n",
        "dt_filter_string = \"name = 'rftemp'\"\n",
        "\n",
        "# Search for Random Forest Regressor Models\n",
        "print(client.search_registered_models(filter_string=dt_filter_string))"
      ],
      "metadata": {
        "colab": {
          "base_uri": "https://localhost:8080/"
        },
        "id": "rFdkMarJ3Ugw",
        "outputId": "9c68435a-6ba6-4ccf-fc17-cff3406f9609"
      },
      "id": "rFdkMarJ3Ugw",
      "execution_count": 22,
      "outputs": [
        {
          "output_type": "stream",
          "name": "stdout",
          "text": [
            "[<RegisteredModel: aliases={}, creation_timestamp=1707642704178, description=None, last_updated_timestamp=1707642746283, latest_versions=[<ModelVersion: aliases=[], creation_timestamp=1707642746283, current_stage='None', description=None, last_updated_timestamp=1707642746283, name='rftemp', run_id='ad694950db5f4e639a7718967dba6a7d', run_link=None, source='file:///content/mlruns/933603017728201695/ad694950db5f4e639a7718967dba6a7d/artifacts/rf_model', status='READY', status_message=None, tags={}, user_id=None, version=4>], name='rftemp', tags={}>]\n"
          ]
        }
      ]
    },
    {
      "cell_type": "markdown",
      "source": [
        "### Load Best Model"
      ],
      "metadata": {
        "id": "ldqW1uiaPbof"
      },
      "id": "ldqW1uiaPbof"
    },
    {
      "cell_type": "code",
      "source": [
        "#best model run id\n",
        "best_model_run_id = best_model_rf_rmse['run_id']"
      ],
      "metadata": {
        "id": "WHz3YiqaLW0O"
      },
      "id": "WHz3YiqaLW0O",
      "execution_count": 23,
      "outputs": []
    },
    {
      "cell_type": "code",
      "source": [
        "#best model uri\n",
        "best_model_arti_uri = best_model_rf_rmse['artifact_uri']"
      ],
      "metadata": {
        "id": "k_UTKyt-Xz0C"
      },
      "id": "k_UTKyt-Xz0C",
      "execution_count": 24,
      "outputs": []
    },
    {
      "cell_type": "code",
      "source": [
        "#full uri path\n",
        "best_model_uri  = f'{best_model_arti_uri}/rf_model'"
      ],
      "metadata": {
        "id": "c7o-J6gkQmJ5"
      },
      "id": "c7o-J6gkQmJ5",
      "execution_count": 25,
      "outputs": []
    },
    {
      "cell_type": "code",
      "source": [
        "model = mlflow.sklearn.load_model(best_model_uri)\n",
        "#model = mlflow.pyfunc.load_model(f\"runs:/{best_model_run_id}/rf_model\")"
      ],
      "metadata": {
        "id": "-Do6zh4QQkSS"
      },
      "id": "-Do6zh4QQkSS",
      "execution_count": 26,
      "outputs": []
    },
    {
      "cell_type": "markdown",
      "source": [
        "#### Best model version"
      ],
      "metadata": {
        "id": "SlRou0cUtp-j"
      },
      "id": "SlRou0cUtp-j"
    },
    {
      "cell_type": "code",
      "source": [
        "#Get best model version\n",
        "model_name = \"rftemp\"\n",
        "\n",
        "version = client.search_model_versions(f\"name='{model_name}'\")\n",
        "[model for model in version if model.run_id == best_model_run_id]"
      ],
      "metadata": {
        "colab": {
          "base_uri": "https://localhost:8080/"
        },
        "id": "3AJaWU_Ul1O3",
        "outputId": "5c39050e-effb-43c0-a9fc-5ed373585cf5"
      },
      "execution_count": 27,
      "outputs": [
        {
          "output_type": "execute_result",
          "data": {
            "text/plain": [
              "[<ModelVersion: aliases=[], creation_timestamp=1707642731300, current_stage='None', description=None, last_updated_timestamp=1707642731300, name='rftemp', run_id='f7f241b04c514da5803122f117c06638', run_link=None, source='file:///content/mlruns/933603017728201695/f7f241b04c514da5803122f117c06638/artifacts/rf_model', status='READY', status_message=None, tags={}, user_id=None, version=3>]"
            ]
          },
          "metadata": {},
          "execution_count": 27
        }
      ],
      "id": "3AJaWU_Ul1O3"
    },
    {
      "cell_type": "markdown",
      "source": [
        "#### Parameters of the best model"
      ],
      "metadata": {
        "id": "VooWT_QKtVhx"
      },
      "id": "VooWT_QKtVhx"
    },
    {
      "cell_type": "code",
      "source": [
        "#Get parameters ofm the best model\n",
        "params = model.get_params()\n",
        "params"
      ],
      "metadata": {
        "colab": {
          "base_uri": "https://localhost:8080/"
        },
        "id": "RSU0vwIoOQLo",
        "outputId": "a13f1813-71ea-4880-ccfa-0540eadcf5d9"
      },
      "id": "RSU0vwIoOQLo",
      "execution_count": 28,
      "outputs": [
        {
          "output_type": "execute_result",
          "data": {
            "text/plain": [
              "{'bootstrap': True,\n",
              " 'ccp_alpha': 0.0,\n",
              " 'criterion': 'squared_error',\n",
              " 'max_depth': 10,\n",
              " 'max_features': 1.0,\n",
              " 'max_leaf_nodes': None,\n",
              " 'max_samples': None,\n",
              " 'min_impurity_decrease': 0.0,\n",
              " 'min_samples_leaf': 1,\n",
              " 'min_samples_split': 2,\n",
              " 'min_weight_fraction_leaf': 0.0,\n",
              " 'n_estimators': 100,\n",
              " 'n_jobs': None,\n",
              " 'oob_score': False,\n",
              " 'random_state': None,\n",
              " 'verbose': 0,\n",
              " 'warm_start': False}"
            ]
          },
          "metadata": {},
          "execution_count": 28
        }
      ]
    },
    {
      "cell_type": "code",
      "source": [
        "#Dataframe of best Model Parameters\n",
        "params_df = pd.DataFrame(params.items(), columns=['Parameter', 'Value'])\n",
        "params_df"
      ],
      "metadata": {
        "colab": {
          "base_uri": "https://localhost:8080/",
          "height": 582
        },
        "id": "nc7vob_0OeL6",
        "outputId": "96f57ed6-b5f7-461f-f407-1f76f817137a"
      },
      "id": "nc7vob_0OeL6",
      "execution_count": 29,
      "outputs": [
        {
          "output_type": "execute_result",
          "data": {
            "text/plain": [
              "                   Parameter          Value\n",
              "0                  bootstrap           True\n",
              "1                  ccp_alpha            0.0\n",
              "2                  criterion  squared_error\n",
              "3                  max_depth             10\n",
              "4               max_features            1.0\n",
              "5             max_leaf_nodes           None\n",
              "6                max_samples           None\n",
              "7      min_impurity_decrease            0.0\n",
              "8           min_samples_leaf              1\n",
              "9          min_samples_split              2\n",
              "10  min_weight_fraction_leaf            0.0\n",
              "11              n_estimators            100\n",
              "12                    n_jobs           None\n",
              "13                 oob_score          False\n",
              "14              random_state           None\n",
              "15                   verbose              0\n",
              "16                warm_start          False"
            ],
            "text/html": [
              "\n",
              "  <div id=\"df-ae9a085e-b074-4939-a8aa-f3dfc55e4818\" class=\"colab-df-container\">\n",
              "    <div>\n",
              "<style scoped>\n",
              "    .dataframe tbody tr th:only-of-type {\n",
              "        vertical-align: middle;\n",
              "    }\n",
              "\n",
              "    .dataframe tbody tr th {\n",
              "        vertical-align: top;\n",
              "    }\n",
              "\n",
              "    .dataframe thead th {\n",
              "        text-align: right;\n",
              "    }\n",
              "</style>\n",
              "<table border=\"1\" class=\"dataframe\">\n",
              "  <thead>\n",
              "    <tr style=\"text-align: right;\">\n",
              "      <th></th>\n",
              "      <th>Parameter</th>\n",
              "      <th>Value</th>\n",
              "    </tr>\n",
              "  </thead>\n",
              "  <tbody>\n",
              "    <tr>\n",
              "      <th>0</th>\n",
              "      <td>bootstrap</td>\n",
              "      <td>True</td>\n",
              "    </tr>\n",
              "    <tr>\n",
              "      <th>1</th>\n",
              "      <td>ccp_alpha</td>\n",
              "      <td>0.0</td>\n",
              "    </tr>\n",
              "    <tr>\n",
              "      <th>2</th>\n",
              "      <td>criterion</td>\n",
              "      <td>squared_error</td>\n",
              "    </tr>\n",
              "    <tr>\n",
              "      <th>3</th>\n",
              "      <td>max_depth</td>\n",
              "      <td>10</td>\n",
              "    </tr>\n",
              "    <tr>\n",
              "      <th>4</th>\n",
              "      <td>max_features</td>\n",
              "      <td>1.0</td>\n",
              "    </tr>\n",
              "    <tr>\n",
              "      <th>5</th>\n",
              "      <td>max_leaf_nodes</td>\n",
              "      <td>None</td>\n",
              "    </tr>\n",
              "    <tr>\n",
              "      <th>6</th>\n",
              "      <td>max_samples</td>\n",
              "      <td>None</td>\n",
              "    </tr>\n",
              "    <tr>\n",
              "      <th>7</th>\n",
              "      <td>min_impurity_decrease</td>\n",
              "      <td>0.0</td>\n",
              "    </tr>\n",
              "    <tr>\n",
              "      <th>8</th>\n",
              "      <td>min_samples_leaf</td>\n",
              "      <td>1</td>\n",
              "    </tr>\n",
              "    <tr>\n",
              "      <th>9</th>\n",
              "      <td>min_samples_split</td>\n",
              "      <td>2</td>\n",
              "    </tr>\n",
              "    <tr>\n",
              "      <th>10</th>\n",
              "      <td>min_weight_fraction_leaf</td>\n",
              "      <td>0.0</td>\n",
              "    </tr>\n",
              "    <tr>\n",
              "      <th>11</th>\n",
              "      <td>n_estimators</td>\n",
              "      <td>100</td>\n",
              "    </tr>\n",
              "    <tr>\n",
              "      <th>12</th>\n",
              "      <td>n_jobs</td>\n",
              "      <td>None</td>\n",
              "    </tr>\n",
              "    <tr>\n",
              "      <th>13</th>\n",
              "      <td>oob_score</td>\n",
              "      <td>False</td>\n",
              "    </tr>\n",
              "    <tr>\n",
              "      <th>14</th>\n",
              "      <td>random_state</td>\n",
              "      <td>None</td>\n",
              "    </tr>\n",
              "    <tr>\n",
              "      <th>15</th>\n",
              "      <td>verbose</td>\n",
              "      <td>0</td>\n",
              "    </tr>\n",
              "    <tr>\n",
              "      <th>16</th>\n",
              "      <td>warm_start</td>\n",
              "      <td>False</td>\n",
              "    </tr>\n",
              "  </tbody>\n",
              "</table>\n",
              "</div>\n",
              "    <div class=\"colab-df-buttons\">\n",
              "\n",
              "  <div class=\"colab-df-container\">\n",
              "    <button class=\"colab-df-convert\" onclick=\"convertToInteractive('df-ae9a085e-b074-4939-a8aa-f3dfc55e4818')\"\n",
              "            title=\"Convert this dataframe to an interactive table.\"\n",
              "            style=\"display:none;\">\n",
              "\n",
              "  <svg xmlns=\"http://www.w3.org/2000/svg\" height=\"24px\" viewBox=\"0 -960 960 960\">\n",
              "    <path d=\"M120-120v-720h720v720H120Zm60-500h600v-160H180v160Zm220 220h160v-160H400v160Zm0 220h160v-160H400v160ZM180-400h160v-160H180v160Zm440 0h160v-160H620v160ZM180-180h160v-160H180v160Zm440 0h160v-160H620v160Z\"/>\n",
              "  </svg>\n",
              "    </button>\n",
              "\n",
              "  <style>\n",
              "    .colab-df-container {\n",
              "      display:flex;\n",
              "      gap: 12px;\n",
              "    }\n",
              "\n",
              "    .colab-df-convert {\n",
              "      background-color: #E8F0FE;\n",
              "      border: none;\n",
              "      border-radius: 50%;\n",
              "      cursor: pointer;\n",
              "      display: none;\n",
              "      fill: #1967D2;\n",
              "      height: 32px;\n",
              "      padding: 0 0 0 0;\n",
              "      width: 32px;\n",
              "    }\n",
              "\n",
              "    .colab-df-convert:hover {\n",
              "      background-color: #E2EBFA;\n",
              "      box-shadow: 0px 1px 2px rgba(60, 64, 67, 0.3), 0px 1px 3px 1px rgba(60, 64, 67, 0.15);\n",
              "      fill: #174EA6;\n",
              "    }\n",
              "\n",
              "    .colab-df-buttons div {\n",
              "      margin-bottom: 4px;\n",
              "    }\n",
              "\n",
              "    [theme=dark] .colab-df-convert {\n",
              "      background-color: #3B4455;\n",
              "      fill: #D2E3FC;\n",
              "    }\n",
              "\n",
              "    [theme=dark] .colab-df-convert:hover {\n",
              "      background-color: #434B5C;\n",
              "      box-shadow: 0px 1px 3px 1px rgba(0, 0, 0, 0.15);\n",
              "      filter: drop-shadow(0px 1px 2px rgba(0, 0, 0, 0.3));\n",
              "      fill: #FFFFFF;\n",
              "    }\n",
              "  </style>\n",
              "\n",
              "    <script>\n",
              "      const buttonEl =\n",
              "        document.querySelector('#df-ae9a085e-b074-4939-a8aa-f3dfc55e4818 button.colab-df-convert');\n",
              "      buttonEl.style.display =\n",
              "        google.colab.kernel.accessAllowed ? 'block' : 'none';\n",
              "\n",
              "      async function convertToInteractive(key) {\n",
              "        const element = document.querySelector('#df-ae9a085e-b074-4939-a8aa-f3dfc55e4818');\n",
              "        const dataTable =\n",
              "          await google.colab.kernel.invokeFunction('convertToInteractive',\n",
              "                                                    [key], {});\n",
              "        if (!dataTable) return;\n",
              "\n",
              "        const docLinkHtml = 'Like what you see? Visit the ' +\n",
              "          '<a target=\"_blank\" href=https://colab.research.google.com/notebooks/data_table.ipynb>data table notebook</a>'\n",
              "          + ' to learn more about interactive tables.';\n",
              "        element.innerHTML = '';\n",
              "        dataTable['output_type'] = 'display_data';\n",
              "        await google.colab.output.renderOutput(dataTable, element);\n",
              "        const docLink = document.createElement('div');\n",
              "        docLink.innerHTML = docLinkHtml;\n",
              "        element.appendChild(docLink);\n",
              "      }\n",
              "    </script>\n",
              "  </div>\n",
              "\n",
              "\n",
              "<div id=\"df-13ced3d4-c1d8-4d94-8129-173ae1493ecd\">\n",
              "  <button class=\"colab-df-quickchart\" onclick=\"quickchart('df-13ced3d4-c1d8-4d94-8129-173ae1493ecd')\"\n",
              "            title=\"Suggest charts\"\n",
              "            style=\"display:none;\">\n",
              "\n",
              "<svg xmlns=\"http://www.w3.org/2000/svg\" height=\"24px\"viewBox=\"0 0 24 24\"\n",
              "     width=\"24px\">\n",
              "    <g>\n",
              "        <path d=\"M19 3H5c-1.1 0-2 .9-2 2v14c0 1.1.9 2 2 2h14c1.1 0 2-.9 2-2V5c0-1.1-.9-2-2-2zM9 17H7v-7h2v7zm4 0h-2V7h2v10zm4 0h-2v-4h2v4z\"/>\n",
              "    </g>\n",
              "</svg>\n",
              "  </button>\n",
              "\n",
              "<style>\n",
              "  .colab-df-quickchart {\n",
              "      --bg-color: #E8F0FE;\n",
              "      --fill-color: #1967D2;\n",
              "      --hover-bg-color: #E2EBFA;\n",
              "      --hover-fill-color: #174EA6;\n",
              "      --disabled-fill-color: #AAA;\n",
              "      --disabled-bg-color: #DDD;\n",
              "  }\n",
              "\n",
              "  [theme=dark] .colab-df-quickchart {\n",
              "      --bg-color: #3B4455;\n",
              "      --fill-color: #D2E3FC;\n",
              "      --hover-bg-color: #434B5C;\n",
              "      --hover-fill-color: #FFFFFF;\n",
              "      --disabled-bg-color: #3B4455;\n",
              "      --disabled-fill-color: #666;\n",
              "  }\n",
              "\n",
              "  .colab-df-quickchart {\n",
              "    background-color: var(--bg-color);\n",
              "    border: none;\n",
              "    border-radius: 50%;\n",
              "    cursor: pointer;\n",
              "    display: none;\n",
              "    fill: var(--fill-color);\n",
              "    height: 32px;\n",
              "    padding: 0;\n",
              "    width: 32px;\n",
              "  }\n",
              "\n",
              "  .colab-df-quickchart:hover {\n",
              "    background-color: var(--hover-bg-color);\n",
              "    box-shadow: 0 1px 2px rgba(60, 64, 67, 0.3), 0 1px 3px 1px rgba(60, 64, 67, 0.15);\n",
              "    fill: var(--button-hover-fill-color);\n",
              "  }\n",
              "\n",
              "  .colab-df-quickchart-complete:disabled,\n",
              "  .colab-df-quickchart-complete:disabled:hover {\n",
              "    background-color: var(--disabled-bg-color);\n",
              "    fill: var(--disabled-fill-color);\n",
              "    box-shadow: none;\n",
              "  }\n",
              "\n",
              "  .colab-df-spinner {\n",
              "    border: 2px solid var(--fill-color);\n",
              "    border-color: transparent;\n",
              "    border-bottom-color: var(--fill-color);\n",
              "    animation:\n",
              "      spin 1s steps(1) infinite;\n",
              "  }\n",
              "\n",
              "  @keyframes spin {\n",
              "    0% {\n",
              "      border-color: transparent;\n",
              "      border-bottom-color: var(--fill-color);\n",
              "      border-left-color: var(--fill-color);\n",
              "    }\n",
              "    20% {\n",
              "      border-color: transparent;\n",
              "      border-left-color: var(--fill-color);\n",
              "      border-top-color: var(--fill-color);\n",
              "    }\n",
              "    30% {\n",
              "      border-color: transparent;\n",
              "      border-left-color: var(--fill-color);\n",
              "      border-top-color: var(--fill-color);\n",
              "      border-right-color: var(--fill-color);\n",
              "    }\n",
              "    40% {\n",
              "      border-color: transparent;\n",
              "      border-right-color: var(--fill-color);\n",
              "      border-top-color: var(--fill-color);\n",
              "    }\n",
              "    60% {\n",
              "      border-color: transparent;\n",
              "      border-right-color: var(--fill-color);\n",
              "    }\n",
              "    80% {\n",
              "      border-color: transparent;\n",
              "      border-right-color: var(--fill-color);\n",
              "      border-bottom-color: var(--fill-color);\n",
              "    }\n",
              "    90% {\n",
              "      border-color: transparent;\n",
              "      border-bottom-color: var(--fill-color);\n",
              "    }\n",
              "  }\n",
              "</style>\n",
              "\n",
              "  <script>\n",
              "    async function quickchart(key) {\n",
              "      const quickchartButtonEl =\n",
              "        document.querySelector('#' + key + ' button');\n",
              "      quickchartButtonEl.disabled = true;  // To prevent multiple clicks.\n",
              "      quickchartButtonEl.classList.add('colab-df-spinner');\n",
              "      try {\n",
              "        const charts = await google.colab.kernel.invokeFunction(\n",
              "            'suggestCharts', [key], {});\n",
              "      } catch (error) {\n",
              "        console.error('Error during call to suggestCharts:', error);\n",
              "      }\n",
              "      quickchartButtonEl.classList.remove('colab-df-spinner');\n",
              "      quickchartButtonEl.classList.add('colab-df-quickchart-complete');\n",
              "    }\n",
              "    (() => {\n",
              "      let quickchartButtonEl =\n",
              "        document.querySelector('#df-13ced3d4-c1d8-4d94-8129-173ae1493ecd button');\n",
              "      quickchartButtonEl.style.display =\n",
              "        google.colab.kernel.accessAllowed ? 'block' : 'none';\n",
              "    })();\n",
              "  </script>\n",
              "</div>\n",
              "    </div>\n",
              "  </div>\n"
            ]
          },
          "metadata": {},
          "execution_count": 29
        }
      ]
    },
    {
      "cell_type": "markdown",
      "source": [
        "## Transition Model to Testing and Production Stages\n",
        "\n",
        "- Random Regressor Model version 3 moved to Production stage"
      ],
      "metadata": {
        "id": "Nrt8k1OpP6eF"
      },
      "id": "Nrt8k1OpP6eF"
    },
    {
      "cell_type": "code",
      "source": [
        "# Transition version 3 of Insurance model to testing stage\n",
        "client.transition_model_version_stage(name=\"rftemp\", version=3,\n",
        "        stage=\"Staging\"\n",
        "    )"
      ],
      "metadata": {
        "colab": {
          "base_uri": "https://localhost:8080/"
        },
        "id": "k9h-EEcEP_3Z",
        "outputId": "912068b9-9cd0-4915-d2bb-34504028978a"
      },
      "id": "k9h-EEcEP_3Z",
      "execution_count": 30,
      "outputs": [
        {
          "output_type": "stream",
          "name": "stderr",
          "text": [
            "<ipython-input-30-98a19d604a6a>:2: FutureWarning: ``mlflow.tracking.client.MlflowClient.transition_model_version_stage`` is deprecated since 2.9.0. Model registry stages will be removed in a future major release. To learn more about the deprecation of model registry stages, see our migration guide here: https://mlflow.org/docs/2.10.2/model-registry.html#migrating-from-stages\n",
            "  client.transition_model_version_stage(name=\"rftemp\", version=3,\n"
          ]
        },
        {
          "output_type": "execute_result",
          "data": {
            "text/plain": [
              "<ModelVersion: aliases=[], creation_timestamp=1707642731300, current_stage='Staging', description=None, last_updated_timestamp=1707642746580, name='rftemp', run_id='f7f241b04c514da5803122f117c06638', run_link=None, source='file:///content/mlruns/933603017728201695/f7f241b04c514da5803122f117c06638/artifacts/rf_model', status='READY', status_message=None, tags={}, user_id=None, version=3>"
            ]
          },
          "metadata": {},
          "execution_count": 30
        }
      ]
    },
    {
      "cell_type": "code",
      "source": [
        "# Transition Model to Production\n",
        "client.transition_model_version_stage(name=\"rftemp\", version=3, stage=\"Production\")"
      ],
      "metadata": {
        "colab": {
          "base_uri": "https://localhost:8080/"
        },
        "id": "ufzplcz8PvQy",
        "outputId": "3a9c9807-2499-4463-dd95-b1ef848115fa"
      },
      "id": "ufzplcz8PvQy",
      "execution_count": 31,
      "outputs": [
        {
          "output_type": "stream",
          "name": "stderr",
          "text": [
            "<ipython-input-31-03958e6a5294>:2: FutureWarning: ``mlflow.tracking.client.MlflowClient.transition_model_version_stage`` is deprecated since 2.9.0. Model registry stages will be removed in a future major release. To learn more about the deprecation of model registry stages, see our migration guide here: https://mlflow.org/docs/2.10.2/model-registry.html#migrating-from-stages\n",
            "  client.transition_model_version_stage(name=\"rftemp\", version=3, stage=\"Production\")\n"
          ]
        },
        {
          "output_type": "execute_result",
          "data": {
            "text/plain": [
              "<ModelVersion: aliases=[], creation_timestamp=1707642731300, current_stage='Production', description=None, last_updated_timestamp=1707642746603, name='rftemp', run_id='f7f241b04c514da5803122f117c06638', run_link=None, source='file:///content/mlruns/933603017728201695/f7f241b04c514da5803122f117c06638/artifacts/rf_model', status='READY', status_message=None, tags={}, user_id=None, version=3>"
            ]
          },
          "metadata": {},
          "execution_count": 31
        }
      ]
    },
    {
      "cell_type": "markdown",
      "source": [
        "###Load Producton Model"
      ],
      "metadata": {
        "id": "qbLOiWv9RlAP"
      },
      "id": "qbLOiWv9RlAP"
    },
    {
      "cell_type": "code",
      "source": [
        "# Load the Production stage of the Random regressor model\n",
        "prod_model = mlflow.sklearn.load_model(\"models:/rftemp/Production\")"
      ],
      "metadata": {
        "colab": {
          "base_uri": "https://localhost:8080/"
        },
        "id": "AY-zySBqRjEm",
        "outputId": "5e84d0b8-9454-4917-9c96-ca3affb35425"
      },
      "id": "AY-zySBqRjEm",
      "execution_count": 37,
      "outputs": [
        {
          "output_type": "stream",
          "name": "stderr",
          "text": [
            "/usr/local/lib/python3.10/dist-packages/mlflow/store/artifact/utils/models.py:32: FutureWarning: ``mlflow.tracking.client.MlflowClient.get_latest_versions`` is deprecated since 2.9.0. Model registry stages will be removed in a future major release. To learn more about the deprecation of model registry stages, see our migration guide here: https://mlflow.org/docs/2.10.2/model-registry.html#migrating-from-stages\n",
            "  latest = client.get_latest_versions(name, None if stage is None else [stage])\n"
          ]
        }
      ]
    },
    {
      "cell_type": "markdown",
      "source": [
        "## Testing Production Model\n",
        "\n",
        "- Production Model has accuracy of 97.7%"
      ],
      "metadata": {
        "id": "AdkcXdvzkMuJ"
      },
      "id": "AdkcXdvzkMuJ"
    },
    {
      "cell_type": "code",
      "source": [
        "prod_model.score(newX_test, y_test)"
      ],
      "metadata": {
        "colab": {
          "base_uri": "https://localhost:8080/"
        },
        "id": "5KtddimojktN",
        "outputId": "b6d7dc38-8b23-4a09-c32d-66cf6c4900a7"
      },
      "id": "5KtddimojktN",
      "execution_count": 41,
      "outputs": [
        {
          "output_type": "execute_result",
          "data": {
            "text/plain": [
              "0.9773186475862918"
            ]
          },
          "metadata": {},
          "execution_count": 41
        }
      ]
    }
  ],
  "metadata": {
    "colab": {
      "provenance": []
    },
    "kernelspec": {
      "display_name": "Python 3 (ipykernel)",
      "language": "python",
      "name": "python3"
    },
    "language_info": {
      "codemirror_mode": {
        "name": "ipython",
        "version": 3
      },
      "file_extension": ".py",
      "mimetype": "text/x-python",
      "name": "python",
      "nbconvert_exporter": "python",
      "pygments_lexer": "ipython3",
      "version": "3.8.10"
    }
  },
  "nbformat": 4,
  "nbformat_minor": 5
}